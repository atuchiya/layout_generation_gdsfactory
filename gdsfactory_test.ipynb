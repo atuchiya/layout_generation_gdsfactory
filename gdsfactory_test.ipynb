{
  "nbformat": 4,
  "nbformat_minor": 0,
  "metadata": {
    "colab": {
      "provenance": [],
      "authorship_tag": "ABX9TyMbr4YZjzxClss4FX8NhTHH",
      "include_colab_link": true
    },
    "kernelspec": {
      "name": "python3",
      "display_name": "Python 3"
    },
    "language_info": {
      "name": "python"
    }
  },
  "cells": [
    {
      "cell_type": "markdown",
      "metadata": {
        "id": "view-in-github",
        "colab_type": "text"
      },
      "source": [
        "<a href=\"https://colab.research.google.com/github/atuchiya/layout_generation_gdsfactory/blob/main/gdsfactory_test.ipynb\" target=\"_parent\"><img src=\"https://colab.research.google.com/assets/colab-badge.svg\" alt=\"Open In Colab\"/></a>"
      ]
    },
    {
      "cell_type": "markdown",
      "source": [
        "# gdsfactory on Google Colab Test"
      ],
      "metadata": {
        "id": "rv75jRqBzkxz"
      }
    },
    {
      "cell_type": "markdown",
      "source": [
        "# Install Dependencies\n",
        "\n",
        "gdsfactory と関連パッケージをインストールします．\n",
        "gdsfactory[cad] は Colab 上では動かないようなので素の gdsfactory です．"
      ],
      "metadata": {
        "id": "Sy221QGq0XtI"
      }
    },
    {
      "cell_type": "code",
      "source": [
        "!pip install gdsfactory"
      ],
      "metadata": {
        "colab": {
          "base_uri": "https://localhost:8080/"
        },
        "id": "jHyCsnAd0aUe",
        "outputId": "72db1048-ea65-4a30-cf5c-e5594c42c519"
      },
      "execution_count": 5,
      "outputs": [
        {
          "output_type": "stream",
          "name": "stdout",
          "text": [
            "Requirement already satisfied: gdsfactory in /usr/local/lib/python3.10/dist-packages (7.9.1)\n",
            "Requirement already satisfied: flatdict in /usr/local/lib/python3.10/dist-packages (from gdsfactory) (4.0.1)\n",
            "Requirement already satisfied: gdstk<0.10 in /usr/local/lib/python3.10/dist-packages (from gdsfactory) (0.9.46)\n",
            "Requirement already satisfied: jinja2<4 in /usr/local/lib/python3.10/dist-packages (from gdsfactory) (3.1.2)\n",
            "Requirement already satisfied: loguru<1 in /usr/local/lib/python3.10/dist-packages (from gdsfactory) (0.7.2)\n",
            "Requirement already satisfied: matplotlib<4 in /usr/local/lib/python3.10/dist-packages (from gdsfactory) (3.7.1)\n",
            "Requirement already satisfied: numpy<2 in /usr/local/lib/python3.10/dist-packages (from gdsfactory) (1.23.5)\n",
            "Requirement already satisfied: omegaconf<3 in /usr/local/lib/python3.10/dist-packages (from gdsfactory) (2.3.0)\n",
            "Requirement already satisfied: orjson<4 in /usr/local/lib/python3.10/dist-packages (from gdsfactory) (3.9.10)\n",
            "Requirement already satisfied: pandas<3 in /usr/local/lib/python3.10/dist-packages (from gdsfactory) (1.5.3)\n",
            "Requirement already satisfied: pydantic<2.6,>=2 in /usr/local/lib/python3.10/dist-packages (from gdsfactory) (2.5.2)\n",
            "Requirement already satisfied: pydantic-settings<3 in /usr/local/lib/python3.10/dist-packages (from gdsfactory) (2.1.0)\n",
            "Requirement already satisfied: pydantic-extra-types<3 in /usr/local/lib/python3.10/dist-packages (from gdsfactory) (2.1.0)\n",
            "Requirement already satisfied: pyyaml in /usr/local/lib/python3.10/dist-packages (from gdsfactory) (6.0.1)\n",
            "Requirement already satisfied: qrcode in /usr/local/lib/python3.10/dist-packages (from gdsfactory) (7.4.2)\n",
            "Requirement already satisfied: rectpack<1 in /usr/local/lib/python3.10/dist-packages (from gdsfactory) (0.2.2)\n",
            "Requirement already satisfied: rich<14 in /usr/local/lib/python3.10/dist-packages (from gdsfactory) (13.7.0)\n",
            "Requirement already satisfied: scipy<2 in /usr/local/lib/python3.10/dist-packages (from gdsfactory) (1.11.4)\n",
            "Requirement already satisfied: shapely<3 in /usr/local/lib/python3.10/dist-packages (from gdsfactory) (2.0.2)\n",
            "Requirement already satisfied: toolz<1 in /usr/local/lib/python3.10/dist-packages (from gdsfactory) (0.12.0)\n",
            "Requirement already satisfied: types-PyYAML in /usr/local/lib/python3.10/dist-packages (from gdsfactory) (6.0.12.12)\n",
            "Requirement already satisfied: typer<1 in /usr/local/lib/python3.10/dist-packages (from gdsfactory) (0.9.0)\n",
            "Requirement already satisfied: watchdog<4 in /usr/local/lib/python3.10/dist-packages (from gdsfactory) (3.0.0)\n",
            "Requirement already satisfied: typing-extensions in /usr/local/lib/python3.10/dist-packages (from gdstk<0.10->gdsfactory) (4.9.0)\n",
            "Requirement already satisfied: MarkupSafe>=2.0 in /usr/local/lib/python3.10/dist-packages (from jinja2<4->gdsfactory) (2.1.3)\n",
            "Requirement already satisfied: contourpy>=1.0.1 in /usr/local/lib/python3.10/dist-packages (from matplotlib<4->gdsfactory) (1.2.0)\n",
            "Requirement already satisfied: cycler>=0.10 in /usr/local/lib/python3.10/dist-packages (from matplotlib<4->gdsfactory) (0.12.1)\n",
            "Requirement already satisfied: fonttools>=4.22.0 in /usr/local/lib/python3.10/dist-packages (from matplotlib<4->gdsfactory) (4.45.1)\n",
            "Requirement already satisfied: kiwisolver>=1.0.1 in /usr/local/lib/python3.10/dist-packages (from matplotlib<4->gdsfactory) (1.4.5)\n",
            "Requirement already satisfied: packaging>=20.0 in /usr/local/lib/python3.10/dist-packages (from matplotlib<4->gdsfactory) (23.2)\n",
            "Requirement already satisfied: pillow>=6.2.0 in /usr/local/lib/python3.10/dist-packages (from matplotlib<4->gdsfactory) (9.4.0)\n",
            "Requirement already satisfied: pyparsing>=2.3.1 in /usr/local/lib/python3.10/dist-packages (from matplotlib<4->gdsfactory) (3.1.1)\n",
            "Requirement already satisfied: python-dateutil>=2.7 in /usr/local/lib/python3.10/dist-packages (from matplotlib<4->gdsfactory) (2.8.2)\n",
            "Requirement already satisfied: antlr4-python3-runtime==4.9.* in /usr/local/lib/python3.10/dist-packages (from omegaconf<3->gdsfactory) (4.9.3)\n",
            "Requirement already satisfied: pytz>=2020.1 in /usr/local/lib/python3.10/dist-packages (from pandas<3->gdsfactory) (2023.3.post1)\n",
            "Requirement already satisfied: annotated-types>=0.4.0 in /usr/local/lib/python3.10/dist-packages (from pydantic<2.6,>=2->gdsfactory) (0.6.0)\n",
            "Requirement already satisfied: pydantic-core==2.14.5 in /usr/local/lib/python3.10/dist-packages (from pydantic<2.6,>=2->gdsfactory) (2.14.5)\n",
            "Requirement already satisfied: python-dotenv>=0.21.0 in /usr/local/lib/python3.10/dist-packages (from pydantic-settings<3->gdsfactory) (1.0.0)\n",
            "Requirement already satisfied: markdown-it-py>=2.2.0 in /usr/local/lib/python3.10/dist-packages (from rich<14->gdsfactory) (3.0.0)\n",
            "Requirement already satisfied: pygments<3.0.0,>=2.13.0 in /usr/local/lib/python3.10/dist-packages (from rich<14->gdsfactory) (2.16.1)\n",
            "Requirement already satisfied: click<9.0.0,>=7.1.1 in /usr/local/lib/python3.10/dist-packages (from typer<1->gdsfactory) (8.1.7)\n",
            "Requirement already satisfied: pypng in /usr/local/lib/python3.10/dist-packages (from qrcode->gdsfactory) (0.20220715.0)\n",
            "Requirement already satisfied: mdurl~=0.1 in /usr/local/lib/python3.10/dist-packages (from markdown-it-py>=2.2.0->rich<14->gdsfactory) (0.1.2)\n",
            "Requirement already satisfied: six>=1.5 in /usr/local/lib/python3.10/dist-packages (from python-dateutil>=2.7->matplotlib<4->gdsfactory) (1.16.0)\n"
          ]
        }
      ]
    },
    {
      "cell_type": "markdown",
      "source": [
        "# gdsfactory Setup\n",
        "\n",
        "PDKなどをセットアップします．rich_output() にしておくと描画がきれいになります．"
      ],
      "metadata": {
        "id": "zOHeszLM1XPi"
      }
    },
    {
      "cell_type": "code",
      "execution_count": 6,
      "metadata": {
        "id": "oG5jVypbzjBa"
      },
      "outputs": [],
      "source": [
        "from functools import partial\n",
        "\n",
        "from pydantic import validate_call\n",
        "\n",
        "import gdsfactory as gf\n",
        "\n",
        "from gdsfactory.generic_tech import get_generic_pdk\n",
        "\n",
        "PDK = get_generic_pdk()\n",
        "PDK.activate()\n",
        "\n",
        "gf.config.rich_output()"
      ]
    },
    {
      "cell_type": "markdown",
      "source": [
        "# お試し\n",
        "\n",
        "polygon を描いてみます．"
      ],
      "metadata": {
        "id": "QhKZCL3J2aIk"
      }
    },
    {
      "cell_type": "code",
      "source": [
        "c = gf.Component(name=\"my_fist_component\")\n",
        "c.add_polygon([(-8, 6, 7, 9), (-6, 8, 17, 5)], layer=(1, 0))\n",
        "c.plot()"
      ],
      "metadata": {
        "colab": {
          "base_uri": "https://localhost:8080/",
          "height": 633
        },
        "id": "T62yK-G41lEX",
        "outputId": "d7560852-d5db-4089-cf17-1eb985f5a47e"
      },
      "execution_count": 7,
      "outputs": [
        {
          "output_type": "display_data",
          "data": {
            "text/plain": [],
            "text/html": [
              "<pre style=\"white-space:pre;overflow-x:auto;line-height:normal;font-family:Menlo,'DejaVu Sans Mono',consolas,'Courier New',monospace\"></pre>\n"
            ]
          },
          "metadata": {}
        },
        {
          "output_type": "display_data",
          "data": {
            "text/plain": [
              "\u001b[1m<\u001b[0m\u001b[1;95mFigure\u001b[0m\u001b[39m size 80\u001b[0m\u001b[1;36m0x600\u001b[0m\u001b[39m with \u001b[0m\u001b[1;36m1\u001b[0m\u001b[39m Axes\u001b[0m\u001b[1m>\u001b[0m"
            ],
            "image/png": "[encoded data removed]"
          },
          "metadata": {}
        }
      ]
    },
    {
      "cell_type": "markdown",
      "source": [
        "# 矩形を描く\n",
        "\n",
        "矩形を置くにはまずコンポーネントを作り，それを配置するという手順が必要らしい．ちょっと面倒なような．add_polygon()だけダイレクトに図形を描けるのはなぜなんだろう…"
      ],
      "metadata": {
        "id": "-857VOzF662J"
      }
    },
    {
      "cell_type": "code",
      "source": [
        "from random import randint\n",
        "\n",
        "c = gf.Component(name=\"Rectangles\")\n",
        "\n",
        "for i in range(5):\n",
        "  r = gf.components.rectangle(size=[3,3], layer=(i+1,0))\n",
        "  c.add_ref(r).movex(i * 5)\n",
        "\n",
        "c.plot()"
      ],
      "metadata": {
        "colab": {
          "base_uri": "https://localhost:8080/",
          "height": 633
        },
        "id": "m-sWL-kc7Qdi",
        "outputId": "7cc2c29a-3316-4265-af27-1ff5171324e7"
      },
      "execution_count": 21,
      "outputs": [
        {
          "output_type": "display_data",
          "data": {
            "text/plain": [],
            "text/html": [
              "<pre style=\"white-space:pre;overflow-x:auto;line-height:normal;font-family:Menlo,'DejaVu Sans Mono',consolas,'Courier New',monospace\"></pre>\n"
            ]
          },
          "metadata": {}
        },
        {
          "output_type": "display_data",
          "data": {
            "text/plain": [
              "\u001b[1m<\u001b[0m\u001b[1;95mFigure\u001b[0m\u001b[39m size 80\u001b[0m\u001b[1;36m0x600\u001b[0m\u001b[39m with \u001b[0m\u001b[1;36m1\u001b[0m\u001b[39m Axes\u001b[0m\u001b[1m>\u001b[0m"
            ],
            "image/png": "[encoded data removed]"
          },
          "metadata": {}
        }
      ]
    }
  ]
}